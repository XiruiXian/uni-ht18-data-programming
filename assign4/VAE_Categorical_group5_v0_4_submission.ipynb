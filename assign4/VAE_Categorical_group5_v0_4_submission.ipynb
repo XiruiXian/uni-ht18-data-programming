{
  "nbformat": 4,
  "nbformat_minor": 0,
  "metadata": {
    "colab": {
      "name": "VAE_Categorical_group5_v0.4_submission.ipynb",
      "version": "0.3.2",
      "provenance": [],
      "collapsed_sections": [],
      "toc_visible": true
    },
    "kernelspec": {
      "name": "python3",
      "display_name": "Python 3"
    },
    "accelerator": "GPU"
  },
  "cells": [
    {
      "metadata": {
        "id": "G5ZcCoXsq3_L",
        "colab_type": "text"
      },
      "cell_type": "markdown",
      "source": [
        "*This python notebook is part of a student research project for KTH - Programming for Data Science course.*\n",
        "\n",
        "### **Title**: Estimating the true probability distribution of categorical data using Variational Autoencoders (VAEs) \n",
        "\n",
        "**Group Number**:  5 \n",
        "\n",
        "**Team members**: Ceren Dikmen, Jakob Heyder, Lutfi Altin, Muhammad Fasih Ullah\n",
        "\n",
        "**Background**\n",
        "\n",
        "\n",
        "> Monte carlo simulations are widely used e.g. in financial simulations. However, it remains hard to estimate the underlying data distributions for dependent random variables. Generative Networks have been shown much success in recent years to estimate the true probability distribution and generate new samples. In this study we want to propose Variational Autoencoders to solve the problem of defining the true probability distribution from historical data, that can be sampled from in Monte Carlo Simulations.\n",
        "\n",
        "\n",
        "\n",
        "\n",
        "**Research question**: \n",
        "1.  *Main*: Can VAEs estimate the complex underlying probability distribution for categorical data?\n",
        "2.  *Extra*: Could the generated samples be evaluated using Monte Carlo simulations?\n",
        "\n",
        "\n",
        "**Method**: \n",
        "> In this project, we will implement a state of the art VAE that will estimate the true probability distribution of categorical data. After training the Encoder and Decoder Network using the reconstruction loss and KL-Divergence, the VAE-model will be evaluated by sampling generated instances and using them in a simple Monte Carlo simulation. The result of the simulation will be compared to the outcome of the simulation with the true data. The true data will be generated from a complex distribution in the first place, this makes it possible to measure the true similarity of the estimated distribution, instead of assuming a multivariate Gaussian. We will use python with frameworks as Pandas for mixed data representation, as well as Keras and Tensorflow for the implementation of the data generation, VAE and Monte Carlo simulation.\n",
        "\n",
        "\n",
        "**Results**: The project will implement,\n",
        "\n",
        "*   Generation of synthetic categorical data\n",
        "*   A Variational Autoencoder for categorical data\n",
        "*   A simple Monte Carlo experiment\n",
        "\n",
        "> The results of the project result will be the similarity measure of the outcome from the Monte Carlo Simulation with the generated data and the true data. Additionally, the result will be the training-performance of the VAE on a data-similarity measure for the true data, also called reconstruction loss.\n",
        "\n"
      ]
    },
    {
      "metadata": {
        "id": "BvAZb1ZJtdq-",
        "colab_type": "code",
        "outputId": "1b43a4b0-9e6f-49e9-db39-37da3f54d514",
        "colab": {
          "base_uri": "https://localhost:8080/",
          "height": 34
        }
      },
      "cell_type": "code",
      "source": [
        "!pip install tensorboardcolab"
      ],
      "execution_count": 0,
      "outputs": [
        {
          "output_type": "stream",
          "text": [
            "Requirement already satisfied: tensorboardcolab in /usr/local/lib/python3.6/dist-packages (0.0.22)\n"
          ],
          "name": "stdout"
        }
      ]
    },
    {
      "metadata": {
        "id": "K5kdgT03sTiN",
        "colab_type": "code",
        "outputId": "174e4836-54a6-4ae0-c21d-9f1d06d822f4",
        "colab": {
          "base_uri": "https://localhost:8080/",
          "height": 69
        }
      },
      "cell_type": "code",
      "source": [
        "import numpy as np\n",
        "import pandas as pd\n",
        "import matplotlib.pyplot as plt\n",
        "import tensorflow as tf\n",
        "from tensorboardcolab import *\n",
        "\n",
        "\n",
        "# options defined\n",
        "%matplotlib inline\n",
        "np.random.seed(1)        # for consistency between runs\n",
        "slim = tf.contrib.slim   # light-weight library for defining, training and evaluating complex models\n",
        "tbc = TensorBoardColab() # library for plotting the network\n"
      ],
      "execution_count": 0,
      "outputs": [
        {
          "output_type": "stream",
          "text": [
            "Wait for 8 seconds...\n",
            "TensorBoard link:\n",
            "http://00c03458.ngrok.io\n"
          ],
          "name": "stdout"
        }
      ]
    },
    {
      "metadata": {
        "id": "0_dDrYjTHb_j",
        "colab_type": "code",
        "colab": {}
      },
      "cell_type": "code",
      "source": [
        "############### 1.) DEFINE HELPER FUNCTIONS ###############\n",
        "\n",
        "def one_hot(samples, shape):\n",
        "    encoded = []\n",
        "    \n",
        "    for s in samples:\n",
        "        row = np.zeros(np.sum(shape))\n",
        "        for i,cat in enumerate(s):\n",
        "            row[np.sum(np.array(shape)[:i]) + cat] = 1\n",
        "        encoded.append(row)\n",
        "\n",
        "    return np.array(encoded)\n",
        "\n",
        "# returns the encoded x with a category for each feature (from one-hot encoded probabilities for each category)\n",
        "def one_hot_reverse(encoded, shape):\n",
        "    samples = []\n",
        "    \n",
        "    # take the maximum probability of all categories from a feature \n",
        "    for r in encoded:\n",
        "        s = []\n",
        "        for i in range(len(shape)):\n",
        "            start = np.sum(np.array(shape)[:i])\n",
        "            end = start + shape[i]\n",
        "            cat = np.argmax( r[start:end] ) \n",
        "            s.append(cat)\n",
        "        samples.append(s)\n",
        "        \n",
        "    return samples\n",
        "\n",
        "def compute_mmd(x, y):   # [batch_size, z_dim] [batch_size, z_dim]\n",
        "    x_kernel = compute_kernel(x, x)\n",
        "    y_kernel = compute_kernel(y, y)\n",
        "    xy_kernel = compute_kernel(x, y)\n",
        "    return tf.reduce_mean(x_kernel) + tf.reduce_mean(y_kernel) - 2 * tf.reduce_mean(xy_kernel)\n",
        "\n",
        "def compute_kernel(x, y):\n",
        "    x_size = tf.shape(x)[0]\n",
        "    y_size = tf.shape(y)[0]\n",
        "    dim = tf.shape(x)[1]\n",
        "    tiled_x = tf.tile(tf.reshape(x, tf.stack([x_size, 1, dim])), tf.stack([1, y_size, 1]))\n",
        "    tiled_y = tf.tile(tf.reshape(y, tf.stack([1, y_size, dim])), tf.stack([x_size, 1, 1]))\n",
        "    return tf.exp(-tf.reduce_mean(tf.square(tiled_x - tiled_y), axis=2) / tf.cast(dim, tf.float32))\n",
        "\n",
        "def sample_gumbel(shape, eps=1e-20): \n",
        "  \"\"\"Sample from Gumbel(0, 1)\"\"\"\n",
        "  U = tf.random_uniform(shape,minval=0,maxval=1)\n",
        "  return -tf.log(-tf.log(U + eps) + eps)\n",
        "\n",
        "def gumbel_softmax_sample(logits, temperature): \n",
        "  \"\"\" Draw a sample from the Gumbel-Softmax distribution\"\"\"\n",
        "  y = logits + sample_gumbel(tf.shape(logits))\n",
        "  return tf.nn.softmax( y / temperature)\n",
        "\n",
        "def gumbel_softmax(logits, temperature, hard=False):\n",
        "  \"\"\"Sample from the Gumbel-Softmax distribution and optionally discretize.\n",
        "  Args:\n",
        "    logits: [batch_size, n_class] unnormalized log-probs\n",
        "    temperature: non-negative scalar\n",
        "    hard: if True, take argmax, but differentiate w.r.t. soft sample y\n",
        "  Returns:\n",
        "    [batch_size, n_class] sample from the Gumbel-Softmax distribution.\n",
        "    If hard=True, then the returned sample will be one-hot, otherwise it will\n",
        "    be a probabilitiy distribution that sums to 1 across classes\n",
        "  \"\"\"\n",
        "  y = gumbel_softmax_sample(logits, temperature)\n",
        "  if hard:\n",
        "    k = tf.shape(logits)[-1]\n",
        "    #y_hard = tf.cast(tf.one_hot(tf.argmax(y,1),k), y.dtype)\n",
        "    y_hard = tf.cast(tf.equal(y,tf.reduce_max(y,1,keep_dims=True)),y.dtype)\n",
        "    y = tf.stop_gradient(y_hard - y) + y\n",
        "  return y"
      ],
      "execution_count": 0,
      "outputs": []
    },
    {
      "metadata": {
        "id": "VQhN8XnGDQlm",
        "colab_type": "text"
      },
      "cell_type": "markdown",
      "source": [
        "# Part 1: Synthetic Categorical Data Generation from a complex distribution\n",
        "\n",
        "For the generation of the categorical data it is important that we use a complex multimodal distribution which has dependencies between variables. Based on the data generated from that distribution we will test if the VAE can learn such complex distribution for categorical data.\n",
        "\n"
      ]
    },
    {
      "metadata": {
        "id": "m4dWNQAbD3C-",
        "colab_type": "code",
        "outputId": "29338360-e551-449c-f8f2-ce25aa703244",
        "colab": {
          "base_uri": "https://localhost:8080/",
          "height": 104
        }
      },
      "cell_type": "code",
      "source": [
        "############### 1.) DEFINE COMPLEX DISTRIBUTION ###############\n",
        "# dependent R.V.s (even numbers are dependent on their identical number and only appear then. E.g. 0-0-0, 2-2-2 but never 1-2-3)\n",
        "distribution_f1_f2_f3 = np.array([[\n",
        "    [0.04, 0, 0, 0, 0],\n",
        "    [0    , 0, 0, 0, 0],\n",
        "    [0    , 0, 0, 0, 0],\n",
        "    [0    , 0, 0, 0, 0]\n",
        "], # 0-0-0 = 4%\n",
        "[\n",
        "    [0, 0   , 0, 0   , 0],\n",
        "    [0, 0.05, 0, 0.22, 0],\n",
        "    [0, 0   , 0, 0   , 0],\n",
        "    [0, 0.14, 0, 0.20, 0]\n",
        "], # 1-1-1 = 5%, 1-1-3 = 22% , 1-3-1 = 14% , 1-3-3 = 20% => total: 61%\n",
        "[\n",
        "    [0, 0, 0   , 0, 0],\n",
        "    [0, 0, 0   , 0, 0],\n",
        "    [0, 0, 0.35, 0, 0],\n",
        "    [0, 0, 0   , 0, 0]\n",
        "]]) # 2-2-2 = 35%\n",
        "\n",
        "distribution_f4_f5 = np.array([\n",
        "    [0.1,    0,   0,    0, 0],\n",
        "    [  0, 0.05,   0, 0.05, 0],\n",
        "    [  0,    0, 0.5,    0, 0],\n",
        "    [  0, 0.15,   0, 0.15, 0]\n",
        "])\n",
        "\n",
        "# independent R.V.s\n",
        "marginal_distributions = np.array([\n",
        "    np.array([0, 0.1, 0, 0.9]), # f6\n",
        "    np.full((20,), 0.05), # f7\n",
        "    np.full((100,), 0.01) # f8\n",
        "])\n",
        "\n",
        "# all distributions listed\n",
        "distributions = np.array([\n",
        "    distribution_f1_f2_f3,\n",
        "    distribution_f4_f5,\n",
        "    *marginal_distributions\n",
        "])\n",
        "    \n",
        "# GENERIC: combine to X distributions into complex multivariate distribution    \n",
        "# initialize a distribution\n",
        "distribution = distributions[0]\n",
        "# add dimensions to create joint distribution (of previous and new)\n",
        "for idx, distr in enumerate(distributions[1:]):\n",
        "    prev_distr = distribution\n",
        "    distribution = np.zeros(distr.shape + prev_distr.shape)\n",
        "    # normalize probabilities\n",
        "    for i, prob in np.ndenumerate(distr):\n",
        "        distribution[i] = prob * prev_distr\n",
        "    \n",
        "        \n",
        "# print statistics about generated distribution\n",
        "print(\"total sum distribution:\", np.sum(distribution))\n",
        "print(\"Number of features:\", len(distribution.shape))\n",
        "print(\"Number of categories per feature: \", distribution.shape)\n",
        "feature_labels = [\"f\" + str(i+1) for i in reversed(range(len(distribution.shape)))]\n",
        "print(\"Feature labels:\", feature_labels)\n",
        "print(\"Features \"+ str(len(distribution.shape)) +\"..1: \", \"(uniform, uniform, custom, dependent_f4, dependent_f5, dependent_f1_f2, dependent_f1_f3, dependent_f3_f2)\")\n",
        "\n"
      ],
      "execution_count": 0,
      "outputs": [
        {
          "output_type": "stream",
          "text": [
            "total sum distribution: 1.0000000000000044\n",
            "Number of features: 8\n",
            "Number of categories per feature:  (100, 20, 4, 4, 5, 3, 4, 5)\n",
            "Feature labels: ['f8', 'f7', 'f6', 'f5', 'f4', 'f3', 'f2', 'f1']\n",
            "Features 8..1:  (uniform, uniform, custom, dependent_f4, dependent_f5, dependent_f1_f2, dependent_f1_f3, dependent_f3_f2)\n"
          ],
          "name": "stdout"
        }
      ]
    },
    {
      "metadata": {
        "id": "LMrAeYP9yrJK",
        "colab_type": "code",
        "outputId": "fd1694f1-b001-45c1-820a-4cf6e734d21e",
        "colab": {
          "base_uri": "https://localhost:8080/",
          "height": 225
        }
      },
      "cell_type": "code",
      "source": [
        "############### 2.) DRAW SAMPLES ###############\n",
        "sample_size = 50000\n",
        "\n",
        "def draw_samples(sample_size):\n",
        "    positions = []\n",
        "    probabilities = []\n",
        "    for index,x in np.ndenumerate(distribution):\n",
        "        positions.append(index)\n",
        "        probabilities.append(x)\n",
        "\n",
        "    true_samples = np.random.choice(len(positions), sample_size, p=probabilities)\n",
        "\n",
        "    true_samples = [positions[i] for i in true_samples]\n",
        "    return true_samples\n",
        "\n",
        "true_samples = draw_samples(sample_size)\n",
        "\n",
        "print(\"Total sample size:\", sample_size)\n",
        "print(\"First 10 samples drawn:\")\n",
        "true_samples[:10]"
      ],
      "execution_count": 0,
      "outputs": [
        {
          "output_type": "stream",
          "text": [
            "Total sample size: 50000\n",
            "First 10 samples drawn:\n"
          ],
          "name": "stdout"
        },
        {
          "output_type": "execute_result",
          "data": {
            "text/plain": [
              "[(41, 14, 1, 2, 2, 1, 3, 3),\n",
              " (72, 0, 3, 2, 2, 2, 2, 2),\n",
              " (0, 0, 3, 1, 1, 2, 2, 2),\n",
              " (30, 4, 3, 2, 2, 2, 2, 2),\n",
              " (14, 13, 3, 2, 2, 1, 3, 3),\n",
              " (9, 4, 3, 2, 2, 2, 2, 2),\n",
              " (18, 12, 3, 2, 2, 1, 3, 3),\n",
              " (34, 11, 3, 0, 0, 1, 1, 3),\n",
              " (39, 13, 3, 2, 2, 1, 3, 3),\n",
              " (53, 17, 3, 2, 2, 2, 2, 2)]"
            ]
          },
          "metadata": {
            "tags": []
          },
          "execution_count": 21
        }
      ]
    },
    {
      "metadata": {
        "id": "Hz0HXGb9D9fz",
        "colab_type": "text"
      },
      "cell_type": "markdown",
      "source": [
        "# Part 2: Our VAE imlementation\n",
        "\n",
        "Reference Papers:\n",
        "\n",
        "* \"Normal\" VAE - original [paper](https://arxiv.org/abs/1312.6114)\n",
        "* InfoVAE [paper](https://arxiv.org/abs/1706.02262)\n",
        "\n",
        "------------------------------------------------------------------------------------------------------------------------------------------------------------\n",
        "\n",
        "Loss functions: \n",
        "1. NLL: Negative Log Likelihood  [Why NLL](https://stats.stackexchange.com/questions/251496/why-sum-of-squared-errors-for-logistic-regression-not-used-and-instead-maximum-l) \n",
        "2. MSE:  Sum of squared errors \n",
        "3. ELBO:  Evidence Lower Bound \n",
        "4. MMD: Maximum Mean Distance\n",
        " \n",
        "=> We compute the TOTAL_LOSS in our implementation based on InfoVAEs MMD-VAE: Combination of Reconstruction loss (NLL)  + Divergence Metrics (ELBO & MMD) \n",
        "\n",
        "beta =Weight parameter for divergence loss (higher beta -> more importance to fit latent-distribution, less importance to reconstruction loss)\n",
        "\n",
        "\n",
        "------------------------------------------------------------------------------------------------------------------------------------------------------------\n",
        "\n",
        "Notes: \n",
        "\n",
        "Categorical Data is one-hot encoded before computation (e.g. to compute reconstruction loss).\n",
        "\n",
        "Possible extension with Gumbel-Softmax trick for categorical reparameterization [paper](https://arxiv.org/abs/1611.01144) instead of one-hot encoded.\n",
        "\n",
        "------------------------------------------------------------------------------------------------------------------------------------------------------------\n",
        "\n",
        "Steps:\n",
        "\n",
        "1.   Define Encoder Network (Inference Network)\n",
        "2.   Define Decoder Network (Generator Network)\n",
        "3.   Define latent-variable sampler\n",
        "4.   Build Model  & Specificy Parameters\n",
        "5.   Define Loss-function -> NLL/MSE (Reconstruction loss) + ELBO/MMD\n",
        "6.   Define evaluation functions for a trained model (MC-Score Distance and MMD-Distance)\n",
        "7.   **Train the networks** using Backpropagation and **save model-scores**\n",
        "8.   Generate baseline-comparison scores\n",
        "9.   Plot Additional Summary of graphs to tensorflow board (e.g. model-scores over betas)\n",
        "\n"
      ]
    },
    {
      "metadata": {
        "id": "HsdXVDotD-5L",
        "colab_type": "code",
        "colab": {}
      },
      "cell_type": "code",
      "source": [
        "############### 1.) DEFINE ENCODER NETWORK ###############\n",
        "\n",
        "def gen_encoder(x, z_dim):\n",
        "    encoder = slim.stack(x, slim.fully_connected, [128, 64], scope='encoder') # hidden layers: 128, 64, fully_connected\n",
        "\n",
        "    mean = slim.stack(encoder, slim.fully_connected, [z_dim], activation_fn=tf.identity, scope='mean')\n",
        "    with tf.variable_scope('std_deviation'):\n",
        "        stddev = slim.stack(encoder, slim.fully_connected, [z_dim], activation_fn=tf.sigmoid)\n",
        "        stddev = tf.maximum(stddev, 0.001)\n",
        "\n",
        "    with tf.variable_scope('input_shape'):\n",
        "        input_shape = tf.shape(x)\n",
        "        \n",
        "    with tf.variable_scope('e'):\n",
        "        e = tf.random_normal(tf.stack([input_shape[0], z_dim])) # reparametrization trick e~Normal distribution\n",
        "        \n",
        "    with tf.variable_scope('latent'):\n",
        "        z = mean + tf.multiply(stddev, e)\n",
        "    \n",
        "    return mean, stddev, z"
      ],
      "execution_count": 0,
      "outputs": []
    },
    {
      "metadata": {
        "id": "K2XEBK4kE5jF",
        "colab_type": "code",
        "colab": {}
      },
      "cell_type": "code",
      "source": [
        "############### 2.) DEFINE DECODER NETWORK ###############\n",
        "\n",
        "def gen_decoder(z, input_dim, reuse=False):\n",
        "    with tf.variable_scope('decoder') as vs:\n",
        "        if reuse:\n",
        "            vs.reuse_variables()\n",
        "            \n",
        "        decoder = slim.stack(z, slim.fully_connected, [64, 128])\n",
        "        xhat = slim.stack(decoder, slim.fully_connected, [input_dim], activation_fn=tf.sigmoid, scope='x_hat')\n",
        "    \n",
        "    return xhat"
      ],
      "execution_count": 0,
      "outputs": []
    },
    {
      "metadata": {
        "id": "M75wyIFM7M3E",
        "colab_type": "code",
        "colab": {}
      },
      "cell_type": "code",
      "source": [
        "############### 3.) Define latent-variable sampler ###############\n",
        "\n",
        "def generate_sampler(z_dim, input_dim):\n",
        "    with tf.variable_scope('sampler'):\n",
        "        z = tf.random_normal(tf.stack([1, z_dim]))\n",
        "    return gen_decoder(z, input_dim, True)"
      ],
      "execution_count": 0,
      "outputs": []
    },
    {
      "metadata": {
        "id": "DmdO9nG51hTe",
        "colab_type": "code",
        "colab": {}
      },
      "cell_type": "code",
      "source": [
        "############### 4.) BUILD MODEL ###############\n",
        "\n",
        "# clear graphs\n",
        "tf.reset_default_graph() \n",
        "\n",
        "# 4.1) parameters \n",
        "arg_z_dim = 10\n",
        "arg_elbo = True # Use ELBO instead of MMD\n",
        "arg_beta = tf.placeholder(tf.float32, [], name='Beta') # weight of divergence compared to reconstruction\n",
        "betavals = [20,20,20,20,20]\n",
        "number_runs = 100000\n",
        "results = np.zeros((len(betavals),4)) # mean_distance, std_distance, invalid_instances, mmd_loss for each beta val\n",
        "\n",
        "\n",
        "# params inferred from data\n",
        "input_dim = int(np.sum(distribution.shape))\n",
        "batch_size = 500\n",
        "encoded_samples = one_hot(true_samples, distribution.shape)\n",
        "\n",
        "\n",
        "# 4.2) build model\n",
        "with tf.variable_scope('input'):\n",
        "    x = tf.placeholder(tf.float32, [None, input_dim]) # input layer: shape: batchsize, dimensions(sum of categories for each feature)\n",
        "train_mean, train_stddev, z = gen_encoder(x, arg_z_dim)\n",
        "xhat = gen_decoder(z, input_dim)\n",
        "\n",
        "# 4.3) build test network\n",
        "sampler = generate_sampler(10, input_dim)"
      ],
      "execution_count": 0,
      "outputs": []
    },
    {
      "metadata": {
        "id": "MwFUIfFs3ETC",
        "colab_type": "code",
        "colab": {}
      },
      "cell_type": "code",
      "source": [
        "############### 5.) DEFINE LOSS ###############\n",
        "\n",
        "with tf.variable_scope('loss'):\n",
        "\n",
        "    # 1.) Reconstruction loss, either NLL or MSE \n",
        "    with tf.variable_scope('reconstruction'):\n",
        "        \n",
        "        # factorized Gaussian with mean and variance => 'negative likelihood is thus proportional to the squared distance'\n",
        "        ###  Negative log likelihood per dimension\n",
        "        ###  nll_per_sample = -tf.reduce_sum(tf.log(xhat) * x + tf.log(1 - xhat) * (1 - x), axis = (1,2,3)) # TODO: axis removed correct? (sum over all )\n",
        "        ###  loss_rec = tf.reduce_mean(nll_per_sample)\n",
        "        \n",
        "        # Mean squared error    \n",
        "        loss_rec = tf.reduce_mean(tf.square(xhat-x))\n",
        "\n",
        "    # 2.) Divergence metric \n",
        "    if (not arg_elbo):\n",
        "        with tf.variable_scope('mmd'):\n",
        "            # Compare the generated z with true samples from a standard Gaussian, and compute their MMD distance\n",
        "            true_latent_samples = tf.random_normal(tf.stack([batch_size, arg_z_dim]))\n",
        "            loss_div = compute_mmd(true_latent_samples, z)\n",
        "    else:\n",
        "        with tf.variable_scope('elbo'):\n",
        "            # KL-Divergence for maximizing expected lower bound (ELBO) => stronger constraint on the distributions\n",
        "            elbo_coeff = 0.001\n",
        "            loss_div = elbo_coeff * tf.reduce_mean(-tf.log(train_stddev) + 0.5 * tf.square(train_stddev) + 0.5 * tf.square(train_mean) - 0.5)\n",
        "\n",
        "    # 3.) Combine total loss    \n",
        "    loss_all = loss_rec + arg_beta * loss_div\n"
      ],
      "execution_count": 0,
      "outputs": []
    },
    {
      "metadata": {
        "id": "HWE2EGPg7dSa",
        "colab_type": "code",
        "colab": {}
      },
      "cell_type": "code",
      "source": [
        "############### 6.) Define model evaluation (MC-Score Distance and MMD-Distance) ###############\n",
        "\n",
        "def baselines():\n",
        "    mean_distance = np.zeros(len(betavals))\n",
        "    std_distance = np.zeros(len(betavals))\n",
        "    mmd_loss = np.zeros(len(betavals))\n",
        "\n",
        "    for idx, beta in enumerate(betavals):\n",
        "        mean, std, mmd = baseline()\n",
        "        mean_distance[idx] = mean\n",
        "        std_distance[idx] = std\n",
        "        mmd_loss[idx] = mmd\n",
        "\n",
        "    return mean_distance, std_distance, mmd_loss\n",
        "\n",
        "# Evaluate baseline\n",
        "def baseline():\n",
        "    test_samples = draw_samples(sample_size)\n",
        "    # Monte Carlo Simulation evaluation\n",
        "    mean, std = evaluate(test_samples)\n",
        "    true_mean, true_std = evaluate(true_samples)\n",
        "    \n",
        "    mean_distance = abs(mean - true_mean)\n",
        "    std_distance = abs(std - true_std)\n",
        "    \n",
        "    # Distribution evaluation (using MMD distance from generated samples to true (synthetic generated) samples)\n",
        "    mmd_loss = 0\n",
        "    mmd_batches = 10\n",
        "    for s in np.split(np.arange(len(true_samples)), mmd_batches):\n",
        "        mmd_loss += compute_mmd(np.array(true_samples, dtype='float32')[s], np.array(test_samples, dtype='float32')[s]).eval()\n",
        "    mmd_loss /= mmd_batches\n",
        "    return mean_distance, std_distance, mmd_loss\n",
        "    \n",
        "# Test if original conditions hold\n",
        "def valid(sample):\n",
        "    return (\n",
        "        # first condition: even numbers are dependent on each other and only appear together e.g. 2-2-2 and 0-0-0\n",
        "        (\n",
        "         (sample[7] % 2 == 0 and (sample[7] == sample[6]) and (sample[6] == sample[5])) or\n",
        "         (sample[7] % 2 == 1 and sample[6] % 2 == 1 and sample[5] % 2 == 1)\n",
        "        )\n",
        "        and\n",
        "        # 2nd condition: even numbers are dependent on each other only appear together e.g. 2-2, 0-0\n",
        "        (\n",
        "         (sample[4] % 2 == 0 and sample[4] == sample[3]) or\n",
        "         (sample[4] % 2 == 1 and sample[3] % 2 == 1)\n",
        "        )\n",
        "\n",
        "    )\n",
        "\n",
        "# Imaginative evaluation based on dependent variables\n",
        "def evaluate_sample(sample):\n",
        "    # Number of categories per feature:  (100, 20, 4, 4, 5, 3, 4, 5)\n",
        "    # Feature labels: ['f8', 'f7', 'f6', 'f5', 'f4', 'f3', 'f2', 'f1']\n",
        "    # Features 8..1:  (uniform, uniform, custom, dependent_f4, dependent_f5, dependent_f1_f2, dependent_f1_f3, dependent_f3_f2)\n",
        "\n",
        "    score = 0\n",
        "    # dependent variable \n",
        "    if (sample[7] % 2 == 1):\n",
        "        score += sample[7] + sample[6] + sample[5]\n",
        "    if (sample[4] % 2 == 1):\n",
        "        score += sample[4] + sample[3]    \n",
        "    score += sample[2] + sample[1]/20 + sample[0]/100   \n",
        "\n",
        "    return score\n",
        "\n",
        "def evaluate(samples):\n",
        "    scores = np.array([evaluate_sample(sample) for sample in samples])\n",
        "    mean = np.sum(scores) / len(scores)\n",
        "    std = np.sqrt(np.sum(np.square(scores - mean)) / len(scores))\n",
        "    \n",
        "    return mean, std\n",
        "\n",
        "\n",
        "def test_network():\n",
        "    gen_samples = [] \n",
        "    for i in range(0, sample_size):\n",
        "        sample = sess.run(sampler)\n",
        "        gen_samples.append(*sample)   \n",
        "\n",
        "    decoded_samples = one_hot_reverse(gen_samples, distribution.shape)\n",
        "\n",
        "    print(decoded_samples[:10])\n",
        "\n",
        "    # Last batch-run reconstruction performance\n",
        "    equals = batch_x == np.round(xhat_val)\n",
        "    accuracy = np.size(equals[equals == True]) / (np.size(equals[equals == False]) + np.size(equals[equals == True]))\n",
        "\n",
        "    # Constraint Validation (Dependency)\n",
        "    invalid_samples = 0\n",
        "    for sample in decoded_samples:\n",
        "        if not valid(sample):\n",
        "            invalid_samples += 1\n",
        "    invalid_samples = invalid_samples / len(decoded_samples)\n",
        "    \n",
        "    # Monte Carlo Simulation evaluation\n",
        "    mean, std = evaluate(decoded_samples)\n",
        "    true_mean, true_std = evaluate(true_samples)\n",
        "    \n",
        "    mean_distance = abs(mean - true_mean)\n",
        "    std_distance = abs(std - true_std)\n",
        "    \n",
        "    # Distribution evaluation (using MMD distance from generated samples to true (synthetic generated) samples)\n",
        "    mmd_loss = 0\n",
        "    mmd_batches = 10\n",
        "    for s in np.split(np.arange(len(true_samples)), mmd_batches):\n",
        "        mmd_loss += compute_mmd(np.array(true_samples, dtype='float32')[s], np.array(decoded_samples, dtype='float32')[s]).eval()\n",
        "    mmd_loss /= mmd_batches\n",
        "    \n",
        "    \n",
        "    print('Last batch-run reconstruction accuracy: ', accuracy)\n",
        "    print('Percentage of instances NOT satisfying constraing: ', invalid_samples)\n",
        "    print('Score of the true data instances: ', true_mean)\n",
        "    print('Score of the gen. data instances: ', mean)\n",
        "    print('Mean distance and STD distance: ', mean_distance, \" \" , std_distance)\n",
        "    print('MMD-Loss: ', mmd_loss)\n",
        "        \n",
        "    return mean_distance, std_distance, invalid_samples, mmd_loss\n",
        "\n",
        "    "
      ],
      "execution_count": 0,
      "outputs": []
    },
    {
      "metadata": {
        "id": "_58VP1uZFn_L",
        "colab_type": "code",
        "outputId": "c4c49a22-0d73-428c-b358-19950c5b4584",
        "colab": {
          "base_uri": "https://localhost:8080/",
          "height": 2034
        }
      },
      "cell_type": "code",
      "source": [
        "############### 7.) TRAIN NETWORK ###############\n",
        "\n",
        "# create trainer\n",
        "trainer = tf.train.AdamOptimizer(1e-3).minimize(loss_all)\n",
        "\n",
        "# 5.1) visualize loss values\n",
        "tf.summary.scalar('divergence (elbo/mmd)', loss_div)\n",
        "tf.summary.scalar('reconstruction (nll/mse)', loss_rec)\n",
        "tf.summary.scalar('total loss', loss_all)\n",
        "merged_summaries = tf.summary.merge_all()\n",
        "\n",
        "# 5.2) train\n",
        "sess = tf.InteractiveSession()\n",
        "\n",
        "for idx, betaval in enumerate(betavals):\n",
        "    sess.run(tf.global_variables_initializer())\n",
        "    writer = tf.summary.FileWriter(tbc.graph_path + '/' + str(time.time()) + '-beta' + str(betaval), sess.graph)\n",
        "\n",
        "    for i in range(number_runs):\n",
        "        batch_x = encoded_samples[np.random.choice(len(encoded_samples), batch_size)]\n",
        "        _, summary, xhat_val, mean_val, stddev_val, z_val = sess.run([trainer, merged_summaries, xhat, train_mean, train_stddev, z], feed_dict={x: batch_x, arg_beta:betaval})\n",
        "        writer.add_summary(summary, i)\n",
        "        \n",
        "    print('beta ' + str(betaval))\n",
        "    mean_distance, std_distance, invalid_samples, mmd_loss = test_network()\n",
        "    results[idx] = [mean_distance, std_distance, invalid_samples, mmd_loss]\n",
        "    writer.add_summary(tf.Summary(value=[\n",
        "        tf.Summary.Value(tag=\"mean_distance\", simple_value=mean_distance), \n",
        "    ]), betaval)\n",
        "    print('z-val', z_val)\n",
        "    print('------')\n",
        "\n",
        "    writer.close()   "
      ],
      "execution_count": 0,
      "outputs": [
        {
          "output_type": "stream",
          "text": [
            "INFO:tensorflow:Summary name divergence (elbo/mmd) is illegal; using divergence__elbo/mmd_ instead.\n",
            "INFO:tensorflow:Summary name reconstruction (nll/mse) is illegal; using reconstruction__nll/mse_ instead.\n",
            "INFO:tensorflow:Summary name total loss is illegal; using total_loss instead.\n"
          ],
          "name": "stdout"
        },
        {
          "output_type": "stream",
          "text": [
            "/usr/local/lib/python3.6/dist-packages/tensorflow/python/client/session.py:1702: UserWarning: An interactive session is already active. This can cause out-of-memory errors in some cases. You must explicitly call `InteractiveSession.close()` to release resources held by the other session(s).\n",
            "  warnings.warn('An interactive session is already active. This can '\n"
          ],
          "name": "stderr"
        },
        {
          "output_type": "stream",
          "text": [
            "beta 20\n",
            "[[93, 11, 3, 3, 3, 2, 2, 2], [23, 4, 3, 2, 1, 1, 1, 3], [15, 19, 3, 2, 2, 1, 3, 3], [57, 2, 3, 1, 3, 2, 2, 2], [69, 9, 3, 0, 0, 1, 3, 3], [97, 4, 3, 2, 2, 1, 3, 3], [93, 2, 3, 3, 3, 1, 1, 3], [34, 2, 3, 2, 2, 0, 0, 0], [10, 19, 1, 2, 2, 2, 2, 2], [21, 19, 3, 1, 1, 2, 2, 2]]\n",
            "Last batch-run reconstruction accuracy:  0.9848551724137931\n",
            "Percentage of instances NOT satisfying constraing:  0.0133\n",
            "Score of the true data instances:  8.9262786\n",
            "Score of the gen. data instances:  8.6726208\n",
            "Mean distance and STD distance:  0.25365779999999916   0.014478543586547765\n",
            "MMD-Loss:  0.02695065885782242\n",
            "z-val [[ 0.09437522 -0.20158547  0.44525325 ...  0.31247297 -0.65345347\n",
            "  -2.0863793 ]\n",
            " [ 0.05014671  0.44789514  1.1148094  ... -0.76608264  2.2493358\n",
            "  -0.2692139 ]\n",
            " [ 0.9390001   0.62965626  1.1380363  ... -0.17019635 -0.41433686\n",
            "  -1.5975907 ]\n",
            " ...\n",
            " [ 2.020072   -1.3682549  -0.82378614 ... -1.4716685  -0.9001319\n",
            "   0.08721384]\n",
            " [ 0.18974619 -1.0724925   0.9835143  ... -0.64413816  0.6902771\n",
            "  -0.4395695 ]\n",
            " [-0.5933274  -0.6361568   0.40843174 ... -0.24475789 -1.0705769\n",
            "   1.8056209 ]]\n",
            "------\n",
            "beta 20\n",
            "[[31, 8, 3, 2, 2, 1, 3, 3], [9, 2, 3, 3, 3, 2, 2, 2], [75, 8, 3, 2, 2, 1, 3, 3], [33, 15, 3, 0, 0, 2, 2, 2], [42, 10, 1, 3, 3, 1, 3, 1], [2, 14, 3, 2, 2, 2, 2, 2], [59, 1, 3, 1, 3, 1, 3, 3], [23, 11, 3, 1, 1, 1, 3, 1], [2, 14, 1, 2, 2, 2, 2, 2], [38, 6, 3, 2, 2, 1, 1, 3]]\n",
            "Last batch-run reconstruction accuracy:  0.9849241379310345\n",
            "Percentage of instances NOT satisfying constraing:  0.00862\n",
            "Score of the true data instances:  8.9262786\n",
            "Score of the gen. data instances:  8.5367594\n",
            "Mean distance and STD distance:  0.3895192000000005   0.018464332053820254\n",
            "MMD-Loss:  0.0377693347632885\n",
            "z-val [[ 0.35639057 -1.1243551   0.589112   ... -1.8948764  -1.0427575\n",
            "  -1.1972466 ]\n",
            " [ 0.09721468  0.30802298  0.18783909 ... -0.58157337  0.70659924\n",
            "  -0.1005137 ]\n",
            " [-0.4377734  -0.4452994   1.1350148  ... -1.2059469   0.42196745\n",
            "   1.254792  ]\n",
            " ...\n",
            " [ 0.4765607   2.0492322  -0.05547308 ... -1.7325168   0.67382586\n",
            "   0.9934373 ]\n",
            " [ 1.9210824  -1.3200938  -0.73188204 ... -1.1740507  -0.5191203\n",
            "   0.05073336]\n",
            " [ 0.75017583 -0.66348356 -0.8864651  ...  0.7387842  -0.7575719\n",
            "  -1.3786023 ]]\n",
            "------\n",
            "beta 20\n",
            "[[74, 9, 3, 2, 2, 1, 3, 3], [59, 2, 3, 3, 3, 1, 3, 1], [47, 14, 1, 2, 2, 2, 2, 2], [87, 3, 3, 1, 1, 1, 3, 3], [46, 0, 3, 2, 2, 2, 2, 2], [69, 17, 3, 0, 0, 1, 3, 1], [85, 0, 3, 2, 2, 2, 2, 2], [29, 9, 3, 1, 3, 1, 3, 3], [87, 17, 3, 1, 1, 1, 3, 3], [9, 17, 3, 1, 1, 1, 1, 3]]\n",
            "Last batch-run reconstruction accuracy:  0.9840551724137931\n",
            "Percentage of instances NOT satisfying constraing:  0.01396\n",
            "Score of the true data instances:  8.9262786\n",
            "Score of the gen. data instances:  8.8542976\n",
            "Mean distance and STD distance:  0.07198099999999918   0.07479982579933608\n",
            "MMD-Loss:  0.02441684529185295\n",
            "z-val [[-0.601461    0.93888336  0.46352074 ... -0.2626595   0.68122625\n",
            "  -0.97923774]\n",
            " [ 0.99307454 -1.2845933  -0.827962   ... -1.0874472   1.0207232\n",
            "  -0.5702517 ]\n",
            " [-1.3084022   1.0875593  -1.1714463  ...  0.887626   -1.7153287\n",
            "  -0.22149372]\n",
            " ...\n",
            " [ 0.3430447   0.9859387  -1.2365959  ...  0.23899792 -1.534887\n",
            "   0.40543157]\n",
            " [ 1.9724056  -2.0935652  -2.5624492  ...  1.2822853  -0.23096961\n",
            "   1.234527  ]\n",
            " [ 0.98570305  0.04117058  1.3610252  ...  0.96606106 -0.43278942\n",
            "   1.2402387 ]]\n",
            "------\n",
            "beta 20\n",
            "[[98, 13, 3, 2, 2, 1, 3, 3], [76, 9, 3, 0, 0, 1, 3, 3], [80, 13, 3, 2, 2, 1, 1, 3], [10, 7, 3, 3, 1, 2, 2, 2], [21, 13, 3, 1, 3, 2, 2, 2], [76, 18, 3, 0, 0, 1, 1, 1], [75, 13, 3, 2, 2, 1, 3, 3], [44, 4, 3, 2, 2, 1, 1, 3], [75, 18, 3, 2, 2, 1, 3, 3], [38, 4, 3, 2, 2, 2, 2, 2]]\n",
            "Last batch-run reconstruction accuracy:  0.9850620689655173\n",
            "Percentage of instances NOT satisfying constraing:  0.01484\n",
            "Score of the true data instances:  8.9262786\n",
            "Score of the gen. data instances:  8.7582302\n",
            "Mean distance and STD distance:  0.1680484   0.013954893844401184\n",
            "MMD-Loss:  0.03457169383764267\n",
            "z-val [[-1.354481   -0.19617012 -0.7426955  ...  0.26488113 -0.9187455\n",
            "   0.16932088]\n",
            " [ 1.4603243   0.40501073 -0.11952206 ... -0.10863365  0.6739254\n",
            "   1.0502433 ]\n",
            " [-0.6474998  -1.5263528   1.3840178  ...  0.73792106 -0.22607204\n",
            "  -0.3992545 ]\n",
            " ...\n",
            " [ 0.73282313  1.401793    1.109821   ...  0.6456272   1.8728015\n",
            "   1.0898213 ]\n",
            " [-1.1259125   0.30978206 -2.4066675  ...  0.3003506   0.07793188\n",
            "  -1.4218948 ]\n",
            " [-0.27458543  0.37379336 -0.11379204 ...  0.8859783   0.10178369\n",
            "  -1.1276603 ]]\n",
            "------\n",
            "beta 20\n",
            "[[95, 5, 1, 0, 0, 2, 2, 2], [95, 2, 1, 3, 3, 1, 1, 1], [85, 15, 3, 2, 2, 2, 2, 2], [18, 8, 3, 3, 1, 1, 3, 3], [20, 19, 1, 0, 1, 2, 2, 2], [23, 1, 3, 1, 1, 1, 3, 3], [83, 19, 3, 0, 0, 2, 2, 2], [24, 2, 3, 3, 3, 1, 1, 3], [43, 7, 3, 2, 2, 1, 1, 3], [44, 2, 3, 3, 3, 2, 2, 2]]\n",
            "Last batch-run reconstruction accuracy:  0.9846758620689655\n",
            "Percentage of instances NOT satisfying constraing:  0.01404\n",
            "Score of the true data instances:  8.9262786\n",
            "Score of the gen. data instances:  8.8055972\n",
            "Mean distance and STD distance:  0.1206814000000005   0.07925531535757413\n",
            "MMD-Loss:  0.02887752801179886\n",
            "z-val [[ 0.34357697  0.17438103 -1.3477563  ... -0.74580365 -0.73093796\n",
            "   0.6002716 ]\n",
            " [-1.2658886  -0.6267662  -1.4861693  ...  1.024869    1.46759\n",
            "  -0.83051986]\n",
            " [-0.42694005  1.0068499   1.0764893  ... -0.51291406  1.4942689\n",
            "  -0.52533895]\n",
            " ...\n",
            " [ 0.26605114 -0.292031   -1.11589    ...  0.9502474  -0.4045883\n",
            "  -1.2449298 ]\n",
            " [ 0.52489644 -1.5744665   0.64435756 ...  0.24406324 -0.00175538\n",
            "  -0.24080727]\n",
            " [ 0.02836854 -0.5476132   0.8155453  ...  0.9371751   0.7826285\n",
            "  -0.39768884]]\n",
            "------\n"
          ],
          "name": "stdout"
        }
      ]
    },
    {
      "metadata": {
        "id": "zlX5XqQDUoyc",
        "colab_type": "code",
        "outputId": "4ee43f83-c7c3-4187-e9aa-7e15db8db99f",
        "colab": {
          "base_uri": "https://localhost:8080/",
          "height": 52
        }
      },
      "cell_type": "code",
      "source": [
        "############### 8.) Generate Baseline: Compare generated Test-set to Training-set ###############\n",
        "mean_distance, std_distance, mmd_loss = baselines()\n",
        "print('Mean distance and STD distance: ', mean_distance, \" \" , std_distance)\n",
        "print('MMD-Loss: ', mmd_loss)"
      ],
      "execution_count": 0,
      "outputs": [
        {
          "output_type": "stream",
          "text": [
            "Mean distance and STD distance:  [0.0152612 0.0034948 0.0226462 0.0214836 0.0197024]   [0.00923043 0.00076375 0.00719459 0.02574292 0.01177363]\n",
            "MMD-Loss:  [0.00037497 0.00034145 0.00030757 0.0003425  0.00035059]\n"
          ],
          "name": "stdout"
        }
      ]
    },
    {
      "metadata": {
        "id": "XfbZlgSuSalu",
        "colab_type": "code",
        "outputId": "bd30c1dd-2615-4e58-993b-baf19d4927d5",
        "colab": {
          "base_uri": "https://localhost:8080/",
          "height": 279
        }
      },
      "cell_type": "code",
      "source": [
        "############### 9a.) Matplotlib pyplot graphs scores/betas ###############\n",
        "\n",
        "x = betavals\n",
        "y = results[:,0]\n",
        "e = results[:,1]\n",
        "\n",
        "plt.errorbar(x, y, e, linestyle='-', marker='o')\n",
        "plt.errorbar(x, mean_distance, std_distance, linestyle='-', marker='o') # baseline\n",
        "plt.xlabel('beta-values')\n",
        "plt.ylabel('MC-Mean-Score-Distance')\n",
        "plt.yscale('log')\n",
        "\n",
        "plt.show()"
      ],
      "execution_count": 0,
      "outputs": [
        {
          "output_type": "display_data",
          "data": {
            "image/png": "[encoded data removed]",
            "text/plain": [
              "<matplotlib.figure.Figure at 0x7f7f68db2e48>"
            ]
          },
          "metadata": {
            "tags": []
          }
        }
      ]
    },
    {
      "metadata": {
        "id": "-CQa8AiDGEqj",
        "colab_type": "code",
        "outputId": "81bde94e-9fff-484b-85d0-3bfadac2585c",
        "colab": {
          "base_uri": "https://localhost:8080/",
          "height": 279
        }
      },
      "cell_type": "code",
      "source": [
        "x = betavals\n",
        "y = results[:,2]\n",
        "\n",
        "plt.plot(x, y, linestyle='-', marker='o')\n",
        "plt.xlabel('beta-values')\n",
        "plt.ylabel('Invalid Generated Instances (PCT)')\n",
        "\n",
        "plt.show()"
      ],
      "execution_count": 0,
      "outputs": [
        {
          "output_type": "display_data",
          "data": {
            "image/png": "[encoded data removed]",
            "text/plain": [
              "<matplotlib.figure.Figure at 0x7f7f4dc13cf8>"
            ]
          },
          "metadata": {
            "tags": []
          }
        }
      ]
    },
    {
      "metadata": {
        "id": "UtV7aX1bGz08",
        "colab_type": "code",
        "outputId": "abbc3d02-d5ec-429c-c0c2-0c891361be2c",
        "colab": {
          "base_uri": "https://localhost:8080/",
          "height": 279
        }
      },
      "cell_type": "code",
      "source": [
        "x = betavals\n",
        "y = results[:,3]\n",
        "\n",
        "plt.plot(x, y, linestyle='-', marker='o')\n",
        "plt.plot(x, mmd_loss, linestyle='-', marker='o') # baseline\n",
        "plt.xlabel('beta-values')\n",
        "plt.ylabel('MMD-Distance')\n",
        "\n",
        "plt.show()"
      ],
      "execution_count": 0,
      "outputs": [
        {
          "output_type": "display_data",
          "data": {
            "image/png": "[encoded data removed]",
            "text/plain": [
              "<matplotlib.figure.Figure at 0x7f7f7efaabe0>"
            ]
          },
          "metadata": {
            "tags": []
          }
        }
      ]
    },
    {
      "metadata": {
        "id": "ukce0bE8psea",
        "colab_type": "code",
        "outputId": "34952fa4-ca92-4703-a3c0-706cd522becb",
        "colab": {
          "base_uri": "https://localhost:8080/",
          "height": 279
        }
      },
      "cell_type": "code",
      "source": [
        "############### 9b.) Runs with similar betas ###############\n",
        "\n",
        "x = ['r1', 'r2', 'r3', 'r4', 'r5']\n",
        "y = results[:,0]\n",
        "e = results[:,1]\n",
        "\n",
        "plt.errorbar(x, y, e, linestyle='-', marker='o')\n",
        "plt.errorbar(x, mean_distance, std_distance, linestyle='-', marker='o') # baseline\n",
        "plt.xlabel('runs with beta = 20')\n",
        "plt.ylabel('MC-Mean-Score-Distance')\n",
        "plt.yscale('log')\n",
        "\n",
        "plt.show()"
      ],
      "execution_count": 0,
      "outputs": [
        {
          "output_type": "display_data",
          "data": {
            "image/png": "[encoded data removed]",
            "text/plain": [
              "<matplotlib.figure.Figure at 0x7f7f76ac5860>"
            ]
          },
          "metadata": {
            "tags": []
          }
        }
      ]
    },
    {
      "metadata": {
        "id": "OLGJJF9dqKbE",
        "colab_type": "code",
        "outputId": "043ece90-06d2-4926-e7a3-9b4ccb50208f",
        "colab": {
          "base_uri": "https://localhost:8080/",
          "height": 279
        }
      },
      "cell_type": "code",
      "source": [
        "x = ['r1', 'r2', 'r3', 'r4', 'r5']\n",
        "y = results[:,3]\n",
        "\n",
        "plt.plot(x, y, linestyle='-', marker='o')\n",
        "plt.plot(x, mmd_loss, linestyle='-', marker='o') # baseline\n",
        "plt.xlabel('runs with beta = 20')\n",
        "plt.ylabel('MMD-Distance')\n",
        "plt.yscale('log')\n",
        "\n",
        "\n",
        "plt.show()"
      ],
      "execution_count": 0,
      "outputs": [
        {
          "output_type": "display_data",
          "data": {
            "image/png": "[encoded data removed]",
            "text/plain": [
              "<matplotlib.figure.Figure at 0x7f7f5d877320>"
            ]
          },
          "metadata": {
            "tags": []
          }
        }
      ]
    },
    {
      "metadata": {
        "id": "v7ePKe8-qGZQ",
        "colab_type": "text"
      },
      "cell_type": "markdown",
      "source": [
        " **TODO**: \n",
        "* Write report and sum up results for different beta values for ELBO and MMD\n",
        "\n",
        "\n",
        "**Remaining Questions to investigate**:\n",
        "* Are the z-latent codes disentangled? Because they do not seem to be normal Gaussian for some dimensions (should be reduced to necessary feature dimensions)\n",
        "* Is z encoding the meaningful dimensions?\n",
        "* MMD-VAE performance vs. ELBO + Beta parameter testing, why is MMD performing bad on categorical data?"
      ]
    }
  ]
}